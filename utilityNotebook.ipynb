{
 "cells": [
  {
   "cell_type": "code",
   "execution_count": null,
   "id": "40df702e",
   "metadata": {},
   "outputs": [],
   "source": [
    "!unzip PCS-FUDA-v1.zip"
   ]
  },
  {
   "cell_type": "code",
   "execution_count": 5,
   "id": "780e891d",
   "metadata": {},
   "outputs": [
    {
     "name": "stdout",
     "output_type": "stream",
     "text": [
      "/projectnb/cs585bp/gmharsh/PCS-FUDA-v2\n"
     ]
    }
   ],
   "source": [
    "%cd PCS-FUDA-v2"
   ]
  },
  {
   "cell_type": "code",
   "execution_count": 6,
   "id": "9c5033f8",
   "metadata": {},
   "outputs": [
    {
     "name": "stdout",
     "output_type": "stream",
     "text": [
      "Archive:  PCS-FUDA-V2.zip\n",
      "7e53a5d917be9c3a555544b0f5676c6b1901d2da\n",
      "   creating: PCS-FUDA-master/\n",
      "  inflating: PCS-FUDA-master/.gitignore  \n",
      "  inflating: PCS-FUDA-master/README.md  \n",
      "   creating: PCS-FUDA-master/config/\n",
      "  inflating: PCS-FUDA-master/config/config.yaml  \n",
      "   creating: PCS-FUDA-master/config/office/\n",
      "  inflating: PCS-FUDA-master/config/office/A-D-1.json  \n",
      "  inflating: PCS-FUDA-master/config/office/A-D-3.json  \n",
      "  inflating: PCS-FUDA-master/config/office/A-W-1.json  \n",
      "  inflating: PCS-FUDA-master/config/office/A-W-3.json  \n",
      "  inflating: PCS-FUDA-master/config/office/D-A-1.json  \n",
      "  inflating: PCS-FUDA-master/config/office/D-A-3.json  \n",
      "  inflating: PCS-FUDA-master/config/office/D-W-1.json  \n",
      "  inflating: PCS-FUDA-master/config/office/D-W-3.json  \n",
      "  inflating: PCS-FUDA-master/config/office/W-A-1.json  \n",
      "  inflating: PCS-FUDA-master/config/office/W-A-3.json  \n",
      "  inflating: PCS-FUDA-master/config/office/W-D-1.json  \n",
      "  inflating: PCS-FUDA-master/config/office/W-D-3.json  \n",
      "  inflating: PCS-FUDA-master/config/officehome_Ar-Cl.json  \n",
      "  inflating: PCS-FUDA-master/config/officehome_Rw-Pr.json  \n",
      "  inflating: PCS-FUDA-master/final.png  \n",
      "   creating: PCS-FUDA-master/images/\n",
      "  inflating: PCS-FUDA-master/images/framework.png  \n",
      "   creating: PCS-FUDA-master/pcs/\n",
      " extracting: PCS-FUDA-master/pcs/__init__.py  \n",
      "   creating: PCS-FUDA-master/pcs/agents/\n",
      "  inflating: PCS-FUDA-master/pcs/agents/BaseAgent.py  \n",
      "  inflating: PCS-FUDA-master/pcs/agents/CDSAgent.py  \n",
      "  inflating: PCS-FUDA-master/pcs/agents/__init__.py  \n",
      "  inflating: PCS-FUDA-master/pcs/agents/trial1-jvsc-69255a5c-13c9-4e65-93c3-b5989541e4b559cd64f5-5992-4070-b9b6-2a580197b70b.ipynb  \n",
      "   creating: PCS-FUDA-master/pcs/models/\n",
      "  inflating: PCS-FUDA-master/pcs/models/__init__.py  \n",
      "  inflating: PCS-FUDA-master/pcs/models/clustering.py  \n",
      "  inflating: PCS-FUDA-master/pcs/models/head.py  \n",
      "  inflating: PCS-FUDA-master/pcs/models/memorybank.py  \n",
      "  inflating: PCS-FUDA-master/pcs/models/ssda.py  \n",
      "  inflating: PCS-FUDA-master/pcs/run.py  \n",
      "   creating: PCS-FUDA-master/pcs/utils/\n",
      "  inflating: PCS-FUDA-master/pcs/utils/__init__.py  \n",
      "  inflating: PCS-FUDA-master/pcs/utils/datautils.py  \n",
      " extracting: PCS-FUDA-master/pcs/utils/datautils_seg.py  \n",
      "  inflating: PCS-FUDA-master/pcs/utils/segmentation_helper.py  \n",
      "  inflating: PCS-FUDA-master/pcs/utils/setup.py  \n",
      "  inflating: PCS-FUDA-master/pcs/utils/torchutils.py  \n",
      "  inflating: PCS-FUDA-master/pcs/utils/utils.py  \n",
      " extracting: PCS-FUDA-master/requirements.txt  \n",
      "  inflating: PCS-FUDA-master/setup.py  \n",
      "  inflating: PCS-FUDA-master/trial.ipynb  \n",
      "  inflating: PCS-FUDA-master/trial1.ipynb  \n",
      "  inflating: PCS-FUDA-master/triual.ipynb  \n"
     ]
    }
   ],
   "source": [
    "!unzip PCS-FUDA-V2.zip"
   ]
  },
  {
   "cell_type": "code",
   "execution_count": 1,
   "id": "f066b674",
   "metadata": {},
   "outputs": [],
   "source": [
    "import os\n",
    "os.getcwd()\n",
    "import os\n",
    "\n",
    "import numpy as np\n",
    "import torch\n",
    "import torch.nn as nn\n",
    "import torch.nn.functional as F\n",
    "import torchvision\n",
    "from torchvision import transforms\n",
    "# from pcs.models import (CosineClassifier, MemoryBank, SSDALossModule,\n",
    "#                         compute_variance, loss_info, torch_kmeans,\n",
    "#                         update_data_memory)\n",
    "# from pcs.utils import (AverageMeter, datautils, is_div, per, reverse_domain,\n",
    "#                        torchutils, utils)\n",
    "from sklearn import metrics\n",
    "from tqdm import tqdm\n",
    "import segmentation_models_pytorch as smp\n",
    "from torch.utils.data import DataLoader\n",
    "#from pcs.utils.datautils_seg import *\n",
    "from torchvision.datasets import Cityscapes"
   ]
  },
  {
   "cell_type": "code",
   "execution_count": 12,
   "id": "f3449930",
   "metadata": {},
   "outputs": [
    {
     "name": "stdout",
     "output_type": "stream",
     "text": [
      "/projectnb/cs585bp/gmharsh\n"
     ]
    }
   ],
   "source": [
    "\n",
    "%cd .."
   ]
  },
  {
   "cell_type": "code",
   "execution_count": 2,
   "id": "eae4c7d1",
   "metadata": {},
   "outputs": [
    {
     "ename": "PermissionError",
     "evalue": "[Errno 13] Permission denied: '/projectnb/cs585bp/gmharsh/PCS-FUDA-v1/PCS-FUDA-master'",
     "output_type": "error",
     "traceback": [
      "\u001b[0;31m---------------------------------------------------------------------------\u001b[0m",
      "\u001b[0;31mPermissionError\u001b[0m                           Traceback (most recent call last)",
      "\u001b[0;32m/share/pkg.7/python3/3.7.10/install/lib/python3.7/shutil.py\u001b[0m in \u001b[0;36mmove\u001b[0;34m(src, dst, copy_function)\u001b[0m\n\u001b[1;32m    565\u001b[0m     \u001b[0;32mtry\u001b[0m\u001b[0;34m:\u001b[0m\u001b[0;34m\u001b[0m\u001b[0;34m\u001b[0m\u001b[0m\n\u001b[0;32m--> 566\u001b[0;31m         \u001b[0mos\u001b[0m\u001b[0;34m.\u001b[0m\u001b[0mrename\u001b[0m\u001b[0;34m(\u001b[0m\u001b[0msrc\u001b[0m\u001b[0;34m,\u001b[0m \u001b[0mreal_dst\u001b[0m\u001b[0;34m)\u001b[0m\u001b[0;34m\u001b[0m\u001b[0;34m\u001b[0m\u001b[0m\n\u001b[0m\u001b[1;32m    567\u001b[0m     \u001b[0;32mexcept\u001b[0m \u001b[0mOSError\u001b[0m\u001b[0;34m:\u001b[0m\u001b[0;34m\u001b[0m\u001b[0;34m\u001b[0m\u001b[0m\n",
      "\u001b[0;31mPermissionError\u001b[0m: [Errno 13] Permission denied: '/projectnb/cs585bp/gmharsh/PCS-FUDA-master/PCS-FUDA-master' -> '/projectnb/cs585bp/gmharsh/PCS-FUDA-v1/PCS-FUDA-master'",
      "\nDuring handling of the above exception, another exception occurred:\n",
      "\u001b[0;31mPermissionError\u001b[0m                           Traceback (most recent call last)",
      "\u001b[0;32m<ipython-input-2-9f6093289871>\u001b[0m in \u001b[0;36m<module>\u001b[0;34m\u001b[0m\n\u001b[1;32m      2\u001b[0m \u001b[0msrc\u001b[0m\u001b[0;34m=\u001b[0m\u001b[0;34mr\"/projectnb/cs585bp/gmharsh/PCS-FUDA-master/PCS-FUDA-master\"\u001b[0m\u001b[0;34m\u001b[0m\u001b[0;34m\u001b[0m\u001b[0m\n\u001b[1;32m      3\u001b[0m \u001b[0mdst\u001b[0m \u001b[0;34m=\u001b[0m \u001b[0;34mr\"/projectnb/cs585bp/gmharsh/PCS-FUDA-v1\"\u001b[0m\u001b[0;34m\u001b[0m\u001b[0;34m\u001b[0m\u001b[0m\n\u001b[0;32m----> 4\u001b[0;31m \u001b[0mshutil\u001b[0m\u001b[0;34m.\u001b[0m\u001b[0mmove\u001b[0m\u001b[0;34m(\u001b[0m\u001b[0msrc\u001b[0m\u001b[0;34m,\u001b[0m\u001b[0mdst\u001b[0m\u001b[0;34m)\u001b[0m\u001b[0;34m\u001b[0m\u001b[0;34m\u001b[0m\u001b[0m\n\u001b[0m",
      "\u001b[0;32m/share/pkg.7/python3/3.7.10/install/lib/python3.7/shutil.py\u001b[0m in \u001b[0;36mmove\u001b[0;34m(src, dst, copy_function)\u001b[0m\n\u001b[1;32m    575\u001b[0m                             \" '%s'.\" % (src, dst))\n\u001b[1;32m    576\u001b[0m             copytree(src, real_dst, copy_function=copy_function,\n\u001b[0;32m--> 577\u001b[0;31m                      symlinks=True)\n\u001b[0m\u001b[1;32m    578\u001b[0m             \u001b[0mrmtree\u001b[0m\u001b[0;34m(\u001b[0m\u001b[0msrc\u001b[0m\u001b[0;34m)\u001b[0m\u001b[0;34m\u001b[0m\u001b[0;34m\u001b[0m\u001b[0m\n\u001b[1;32m    579\u001b[0m         \u001b[0;32melse\u001b[0m\u001b[0;34m:\u001b[0m\u001b[0;34m\u001b[0m\u001b[0;34m\u001b[0m\u001b[0m\n",
      "\u001b[0;32m/share/pkg.7/python3/3.7.10/install/lib/python3.7/shutil.py\u001b[0m in \u001b[0;36mcopytree\u001b[0;34m(src, dst, symlinks, ignore, copy_function, ignore_dangling_symlinks)\u001b[0m\n\u001b[1;32m    322\u001b[0m         \u001b[0mignored_names\u001b[0m \u001b[0;34m=\u001b[0m \u001b[0mset\u001b[0m\u001b[0;34m(\u001b[0m\u001b[0;34m)\u001b[0m\u001b[0;34m\u001b[0m\u001b[0;34m\u001b[0m\u001b[0m\n\u001b[1;32m    323\u001b[0m \u001b[0;34m\u001b[0m\u001b[0m\n\u001b[0;32m--> 324\u001b[0;31m     \u001b[0mos\u001b[0m\u001b[0;34m.\u001b[0m\u001b[0mmakedirs\u001b[0m\u001b[0;34m(\u001b[0m\u001b[0mdst\u001b[0m\u001b[0;34m)\u001b[0m\u001b[0;34m\u001b[0m\u001b[0;34m\u001b[0m\u001b[0m\n\u001b[0m\u001b[1;32m    325\u001b[0m     \u001b[0merrors\u001b[0m \u001b[0;34m=\u001b[0m \u001b[0;34m[\u001b[0m\u001b[0;34m]\u001b[0m\u001b[0;34m\u001b[0m\u001b[0;34m\u001b[0m\u001b[0m\n\u001b[1;32m    326\u001b[0m     \u001b[0;32mfor\u001b[0m \u001b[0mname\u001b[0m \u001b[0;32min\u001b[0m \u001b[0mnames\u001b[0m\u001b[0;34m:\u001b[0m\u001b[0;34m\u001b[0m\u001b[0;34m\u001b[0m\u001b[0m\n",
      "\u001b[0;32m/share/pkg.7/python3/3.7.10/install/lib/python3.7/os.py\u001b[0m in \u001b[0;36mmakedirs\u001b[0;34m(name, mode, exist_ok)\u001b[0m\n\u001b[1;32m    221\u001b[0m             \u001b[0;32mreturn\u001b[0m\u001b[0;34m\u001b[0m\u001b[0;34m\u001b[0m\u001b[0m\n\u001b[1;32m    222\u001b[0m     \u001b[0;32mtry\u001b[0m\u001b[0;34m:\u001b[0m\u001b[0;34m\u001b[0m\u001b[0;34m\u001b[0m\u001b[0m\n\u001b[0;32m--> 223\u001b[0;31m         \u001b[0mmkdir\u001b[0m\u001b[0;34m(\u001b[0m\u001b[0mname\u001b[0m\u001b[0;34m,\u001b[0m \u001b[0mmode\u001b[0m\u001b[0;34m)\u001b[0m\u001b[0;34m\u001b[0m\u001b[0;34m\u001b[0m\u001b[0m\n\u001b[0m\u001b[1;32m    224\u001b[0m     \u001b[0;32mexcept\u001b[0m \u001b[0mOSError\u001b[0m\u001b[0;34m:\u001b[0m\u001b[0;34m\u001b[0m\u001b[0;34m\u001b[0m\u001b[0m\n\u001b[1;32m    225\u001b[0m         \u001b[0;31m# Cannot rely on checking for EEXIST, since the operating system\u001b[0m\u001b[0;34m\u001b[0m\u001b[0;34m\u001b[0m\u001b[0;34m\u001b[0m\u001b[0m\n",
      "\u001b[0;31mPermissionError\u001b[0m: [Errno 13] Permission denied: '/projectnb/cs585bp/gmharsh/PCS-FUDA-v1/PCS-FUDA-master'"
     ]
    }
   ],
   "source": [
    "import shutil\n",
    "src=r\"/projectnb/cs585bp/gmharsh/PCS-FUDA-master/PCS-FUDA-master\"\n",
    "dst = r\"/projectnb/cs585bp/gmharsh/PCS-FUDA-v1\"\n",
    "shutil.move(src,dst)"
   ]
  },
  {
   "cell_type": "code",
   "execution_count": 34,
   "id": "e60845ab",
   "metadata": {},
   "outputs": [],
   "source": [
    "import os\n",
    "os.chdir(\"../\")"
   ]
  },
  {
   "cell_type": "code",
   "execution_count": 35,
   "id": "67f37552",
   "metadata": {},
   "outputs": [],
   "source": [
    "import os\n",
    "os.chdir(\"../\")"
   ]
  },
  {
   "cell_type": "code",
   "execution_count": 2,
   "id": "1168908e",
   "metadata": {},
   "outputs": [
    {
     "data": {
      "text/plain": [
       "True"
      ]
     },
     "execution_count": 2,
     "metadata": {},
     "output_type": "execute_result"
    }
   ],
   "source": [
    "torch.cuda.is_available()"
   ]
  },
  {
   "cell_type": "code",
   "execution_count": 2,
   "id": "c7e5aa3c",
   "metadata": {},
   "outputs": [
    {
     "name": "stdout",
     "output_type": "stream",
     "text": [
      "Configuration Loaded:\n",
      "{'agent': 'CDSAgent',\n",
      " 'data_params': {'aug': 'aug_0',\n",
      "                 'fewshot': '1',\n",
      "                 'name': 'office',\n",
      "                 'source': 'dslr',\n",
      "                 'target': 'amazon'},\n",
      " 'exp_base': './exps',\n",
      " 'exp_id': 'dslr->amazon',\n",
      " 'exp_name': 'office',\n",
      " 'loss_params': {'clus': {'k': [31, 62],\n",
      "                          'kmeans_freq': 1,\n",
      "                          'n_k': 15,\n",
      "                          'type': ['each']},\n",
      "                 'loss': ['cls-so',\n",
      "                          'proto-each',\n",
      "                          'I2C-cross',\n",
      "                          'semi-condentmax',\n",
      "                          'semi-entmin',\n",
      "                          'tgt-condentmax',\n",
      "                          'tgt-entmin'],\n",
      "                 'temp': 0.1,\n",
      "                 'thres_src': 0.99,\n",
      "                 'thres_tgt': 0.99,\n",
      "                 'weight': [1, 1, 1, 0.05, 0.05, 0.05, 0.05]},\n",
      " 'model_params': {'load_weight': 'src-tgt',\n",
      "                  'load_weight_epoch': 3,\n",
      "                  'load_weight_thres': 50,\n",
      "                  'out_dim': 512,\n",
      "                  'seg': True,\n",
      "                  'version': 'pretrain-resnet50'},\n",
      " 'num_epochs': 500,\n",
      " 'optim_params': {'batch_size': 4,\n",
      "                  'batch_size_lbd': 4,\n",
      "                  'cls_update': True,\n",
      "                  'conv_lr_ratio': 0.1,\n",
      "                  'decay': True,\n",
      "                  'learning_rate': 0.01,\n",
      "                  'patience': 4,\n",
      "                  'weight_decay': 0.0005},\n",
      " 'seed': 1337,\n",
      " 'steps_epoch': None}\n",
      "\n",
      " *************************************** \n",
      "      Running experiment office\n",
      " *************************************** \n",
      "\n",
      "[INFO]: Experiment directory is located at ./exps/experiments/office/dslr->amazon-230502014116\n",
      "[INFO]: Configurations and directories successfully set up.\n",
      "[INFO]: Start at time: 2023.05.02-01:41:16\n",
      "[INFO]: Server: scc-201\n",
      "[INFO]: User specified 1 GPUs: 0\n",
      "[INFO]: Program will run on *****GPU-CUDA***** \n",
      "[INFO]: Python VERSION: 3.7.10 (default, May  3 2021, 16:47:43) \n",
      "[GCC 4.8.5 20150623 (Red Hat 4.8.5-44)]\n",
      "[INFO]: pytorch VERSION: 1.10.2+cu113\n",
      "[INFO]: CUDA VERSION: 11.3\n",
      "[INFO]: CUDNN VERSION: 8200\n",
      "[INFO]: Device NAME: Tesla V100-SXM2-16GB\n",
      "[INFO]: Number CUDA Devices: 1\n",
      "[INFO]: Available devices: 1\n",
      "[INFO]: current CUDA Device: 0\n",
      "[INFO]: TRAINING DATASET LOADED, NOW LOADING TEST DATASET\n",
      "[INFO]: Imagenet pretrained model used\n",
      "[INFO]: Segmentation model used\n",
      "[INFO]: Error encountered at MIM init, initializing to random value\n",
      "[Compute train features of source]:  17%|▋   | 78/457 [16:56<1:16:50, 12.17s/it]Traceback (most recent call last):\n",
      "  File \"/share/pkg.7/pytorch/1.10.2/install/lib/SCC/../python3.7/site-packages/torch/utils/data/dataloader.py\", line 990, in _try_get_data\n",
      "    data = self._data_queue.get(timeout=timeout)\n",
      "  File \"/share/pkg.7/python3/3.7.10/install/lib/python3.7/queue.py\", line 179, in get\n",
      "    self.not_empty.wait(remaining)\n",
      "  File \"/share/pkg.7/python3/3.7.10/install/lib/python3.7/threading.py\", line 300, in wait\n",
      "    gotit = waiter.acquire(True, timeout)\n",
      "  File \"/share/pkg.7/pytorch/1.10.2/install/lib/SCC/../python3.7/site-packages/torch/utils/data/_utils/signal_handling.py\", line 66, in handler\n",
      "    _error_if_any_worker_fails()\n",
      "RuntimeError: DataLoader worker (pid 29317) is killed by signal: Killed. \n",
      "\n",
      "The above exception was the direct cause of the following exception:\n",
      "\n",
      "Traceback (most recent call last):\n",
      "  File \"PCS-FUDA-v2/PCS-FUDA-master/run.py\", line 208, in <module>\n",
      "    agent = AgentClass(config)\n",
      "  File \"/projectnb/cs585bp/gmharsh/PCS-FUDA-v2/PCS-FUDA-master/pcs/agents/CDSAgent.py\", line 74, in __init__\n",
      "    self._init_memory_bank()\n",
      "  File \"/share/pkg.7/pytorch/1.10.2/install/lib/SCC/../python3.7/site-packages/torch/autograd/grad_mode.py\", line 28, in decorate_context\n",
      "    return func(*args, **kwargs)\n",
      "  File \"/projectnb/cs585bp/gmharsh/PCS-FUDA-v2/PCS-FUDA-master/pcs/agents/CDSAgent.py\", line 1064, in _init_memory_bank\n",
      "    self.compute_train_features()\n",
      "  File \"/share/pkg.7/pytorch/1.10.2/install/lib/SCC/../python3.7/site-packages/torch/autograd/grad_mode.py\", line 28, in decorate_context\n",
      "    return func(*args, **kwargs)\n",
      "  File \"/projectnb/cs585bp/gmharsh/PCS-FUDA-v2/PCS-FUDA-master/pcs/agents/CDSAgent.py\", line 987, in compute_train_features\n",
      "    for batch_i, (images, labels) in enumerate(train_loader):\n",
      "  File \"/share/pkg.7/pytorch/1.10.2/install/lib/SCC/../python3.7/site-packages/torch/utils/data/dataloader.py\", line 521, in __next__\n",
      "    data = self._next_data()\n",
      "  File \"/share/pkg.7/pytorch/1.10.2/install/lib/SCC/../python3.7/site-packages/torch/utils/data/dataloader.py\", line 1186, in _next_data\n",
      "    idx, data = self._get_data()\n",
      "  File \"/share/pkg.7/pytorch/1.10.2/install/lib/SCC/../python3.7/site-packages/torch/utils/data/dataloader.py\", line 1142, in _get_data\n",
      "    success, data = self._try_get_data()\n",
      "  File \"/share/pkg.7/pytorch/1.10.2/install/lib/SCC/../python3.7/site-packages/torch/utils/data/dataloader.py\", line 1003, in _try_get_data\n",
      "    raise RuntimeError('DataLoader worker (pid(s) {}) exited unexpectedly'.format(pids_str)) from e\n",
      "RuntimeError: DataLoader worker (pid(s) 29317) exited unexpectedly\n",
      "[Compute train features of source]:  19%|▊   | 88/457 [20:20<1:25:17, 13.87s/it]\n"
     ]
    }
   ],
   "source": [
    "!python PCS-FUDA-v2/PCS-FUDA-master/run.py --config PCS-FUDA-v2/PCS-FUDA-master/config/cynthia/cynthia_json.json"
   ]
  },
  {
   "cell_type": "code",
   "execution_count": 7,
   "id": "c310b7f9",
   "metadata": {},
   "outputs": [
    {
     "name": "stdout",
     "output_type": "stream",
     "text": [
      "Defaulting to user installation because normal site-packages is not writeable\n",
      "Collecting faiss-cpu\n",
      "  Downloading faiss_cpu-1.7.4-cp37-cp37m-manylinux_2_17_x86_64.manylinux2014_x86_64.whl (17.6 MB)\n",
      "\u001b[K     |████████████████████████████████| 17.6 MB 8.0 MB/s eta 0:00:01\n",
      "\u001b[?25hInstalling collected packages: faiss-cpu\n",
      "Successfully installed faiss-cpu-1.7.4\n",
      "\u001b[33mWARNING: You are using pip version 21.1.1; however, version 23.1.1 is available.\n",
      "You should consider upgrading via the '/share/pkg.7/python3/3.7.10/install/bin/python3.7 -m pip install --upgrade pip' command.\u001b[0m\n"
     ]
    }
   ],
   "source": [
    "!pip install faiss-cpu"
   ]
  },
  {
   "cell_type": "code",
   "execution_count": 5,
   "id": "b448f814",
   "metadata": {},
   "outputs": [
    {
     "name": "stdout",
     "output_type": "stream",
     "text": [
      "kdfjkj\n"
     ]
    }
   ],
   "source": [
    "print(\"kdfjkj\")"
   ]
  },
  {
   "cell_type": "code",
   "execution_count": 20,
   "id": "c22e630e",
   "metadata": {},
   "outputs": [
    {
     "name": "stdout",
     "output_type": "stream",
     "text": [
      "PCS-FUDA-master  README    leftImg8bit_trainvaltest\t utilityNotebook.ipynb\r\n",
      "PCS-FUDA-v1\t __MACOSX  license.txt\r\n",
      "PCS-FUDA-v1.zip  data\t   testing.py\r\n",
      "PCS-FUDA-v2\t exps\t   testing_cosine_classifier.py\r\n"
     ]
    }
   ],
   "source": [
    "!ls"
   ]
  },
  {
   "cell_type": "code",
   "execution_count": 9,
   "id": "e8a8c7b3",
   "metadata": {},
   "outputs": [
    {
     "name": "stdout",
     "output_type": "stream",
     "text": [
      "Defaulting to user installation because normal site-packages is not writeable\n",
      "Collecting segmentation-models-pytorch\n",
      "  Downloading segmentation_models_pytorch-0.3.2-py3-none-any.whl (106 kB)\n",
      "\u001b[K     |████████████████████████████████| 106 kB 8.5 MB/s eta 0:00:01\n",
      "\u001b[?25hCollecting timm==0.6.12\n",
      "  Downloading timm-0.6.12-py3-none-any.whl (549 kB)\n",
      "\u001b[K     |████████████████████████████████| 549 kB 45.2 MB/s eta 0:00:01\n",
      "\u001b[?25hRequirement already satisfied: pillow in /share/pkg.7/python3/3.7.10/install/lib/python3.7/site-packages (from segmentation-models-pytorch) (7.2.0)\n",
      "Collecting efficientnet-pytorch==0.7.1\n",
      "  Downloading efficientnet_pytorch-0.7.1.tar.gz (21 kB)\n",
      "Requirement already satisfied: torchvision>=0.5.0 in /share/pkg.7/pytorch/1.10.2/install/lib/python3.7/site-packages (from segmentation-models-pytorch) (0.11.3+cu113)\n",
      "Requirement already satisfied: tqdm in /share/pkg.7/python3/3.7.10/install/lib/python3.7/site-packages (from segmentation-models-pytorch) (4.60.0)\n",
      "Collecting pretrainedmodels==0.7.4\n",
      "  Downloading pretrainedmodels-0.7.4.tar.gz (58 kB)\n",
      "\u001b[K     |████████████████████████████████| 58 kB 39.1 MB/s eta 0:00:01\n",
      "\u001b[?25hRequirement already satisfied: torch in /share/pkg.7/pytorch/1.10.2/install/lib/python3.7/site-packages (from efficientnet-pytorch==0.7.1->segmentation-models-pytorch) (1.10.2+cu113)\n",
      "Requirement already satisfied: munch in /share/pkg.7/python3/3.7.10/install/lib/python3.7/site-packages (from pretrainedmodels==0.7.4->segmentation-models-pytorch) (2.5.0)\n",
      "Requirement already satisfied: pyyaml in /share/pkg.7/python3/3.7.10/install/lib/python3.7/site-packages (from timm==0.6.12->segmentation-models-pytorch) (5.4.1)\n",
      "Collecting huggingface-hub\n",
      "  Downloading huggingface_hub-0.14.1-py3-none-any.whl (224 kB)\n",
      "\u001b[K     |████████████████████████████████| 224 kB 48.0 MB/s eta 0:00:01\n",
      "\u001b[?25hRequirement already satisfied: typing-extensions in /share/pkg.7/pytorch/1.10.2/install/lib/python3.7/site-packages (from torch->efficientnet-pytorch==0.7.1->segmentation-models-pytorch) (4.1.1)\n",
      "Requirement already satisfied: numpy in /share/pkg.7/python3/3.7.10/install/lib/python3.7/site-packages/numpy-1.19.5-py3.7-linux-x86_64.egg (from torchvision>=0.5.0->segmentation-models-pytorch) (1.19.5)\n",
      "Requirement already satisfied: filelock in /share/pkg.7/python3/3.7.10/install/lib/python3.7/site-packages (from huggingface-hub->timm==0.6.12->segmentation-models-pytorch) (3.0.12)\n",
      "Requirement already satisfied: importlib-metadata in /share/pkg.7/python3/3.7.10/install/lib/python3.7/site-packages (from huggingface-hub->timm==0.6.12->segmentation-models-pytorch) (1.7.0)\n",
      "Requirement already satisfied: requests in /share/pkg.7/python3/3.7.10/install/lib/python3.7/site-packages (from huggingface-hub->timm==0.6.12->segmentation-models-pytorch) (2.25.1)\n",
      "Requirement already satisfied: packaging>=20.9 in /share/pkg.7/python3/3.7.10/install/lib/python3.7/site-packages (from huggingface-hub->timm==0.6.12->segmentation-models-pytorch) (20.9)\n",
      "Requirement already satisfied: fsspec in /share/pkg.7/python3/3.7.10/install/lib/python3.7/site-packages (from huggingface-hub->timm==0.6.12->segmentation-models-pytorch) (2021.4.0)\n",
      "Requirement already satisfied: pyparsing>=2.0.2 in /share/pkg.7/python3/3.7.10/install/lib/python3.7/site-packages (from packaging>=20.9->huggingface-hub->timm==0.6.12->segmentation-models-pytorch) (2.4.7)\n",
      "Requirement already satisfied: zipp>=0.5 in /share/pkg.7/python3/3.7.10/install/lib/python3.7/site-packages (from importlib-metadata->huggingface-hub->timm==0.6.12->segmentation-models-pytorch) (3.4.1)\n",
      "Requirement already satisfied: six in /share/pkg.7/python3/3.7.10/install/lib/python3.7/site-packages (from munch->pretrainedmodels==0.7.4->segmentation-models-pytorch) (1.15.0)\n",
      "Requirement already satisfied: certifi>=2017.4.17 in /share/pkg.7/python3/3.7.10/install/lib/python3.7/site-packages (from requests->huggingface-hub->timm==0.6.12->segmentation-models-pytorch) (2020.12.5)\n",
      "Requirement already satisfied: chardet<5,>=3.0.2 in /share/pkg.7/python3/3.7.10/install/lib/python3.7/site-packages (from requests->huggingface-hub->timm==0.6.12->segmentation-models-pytorch) (4.0.0)\n",
      "Requirement already satisfied: urllib3<1.27,>=1.21.1 in /share/pkg.7/python3/3.7.10/install/lib/python3.7/site-packages (from requests->huggingface-hub->timm==0.6.12->segmentation-models-pytorch) (1.26.4)\n",
      "Requirement already satisfied: idna<3,>=2.5 in /share/pkg.7/python3/3.7.10/install/lib/python3.7/site-packages (from requests->huggingface-hub->timm==0.6.12->segmentation-models-pytorch) (2.10)\n",
      "Building wheels for collected packages: efficientnet-pytorch, pretrainedmodels\n",
      "  Building wheel for efficientnet-pytorch (setup.py) ... \u001b[?25ldone\n",
      "\u001b[?25h  Created wheel for efficientnet-pytorch: filename=efficientnet_pytorch-0.7.1-py3-none-any.whl size=16446 sha256=2c3cc8c143fed59823a72b4697222049e5a6888355a2cb412839ea332184c9e3\n",
      "  Stored in directory: /scratch/7371631.1.academic/pip-ephem-wheel-cache-gu3dp2wp/wheels/0e/cc/b2/49e74588263573ff778da58cc99b9c6349b496636a7e165be6\n",
      "  Building wheel for pretrainedmodels (setup.py) ... \u001b[?25ldone\n",
      "\u001b[?25h  Created wheel for pretrainedmodels: filename=pretrainedmodels-0.7.4-py3-none-any.whl size=60963 sha256=a799b995f7566bce64fefe055db69fc850d76c0fe2af570a9fd1e84218061241\n",
      "  Stored in directory: /scratch/7371631.1.academic/pip-ephem-wheel-cache-gu3dp2wp/wheels/ed/27/e8/9543d42de2740d3544db96aefef63bda3f2c1761b3334f4873\n",
      "Successfully built efficientnet-pytorch pretrainedmodels\n",
      "Installing collected packages: huggingface-hub, timm, pretrainedmodels, efficientnet-pytorch, segmentation-models-pytorch\n",
      "\u001b[33m  WARNING: The script huggingface-cli is installed in '/usr3/graduate/rohan16/.local/bin' which is not on PATH.\n",
      "  Consider adding this directory to PATH or, if you prefer to suppress this warning, use --no-warn-script-location.\u001b[0m\n",
      "Successfully installed efficientnet-pytorch-0.7.1 huggingface-hub-0.14.1 pretrainedmodels-0.7.4 segmentation-models-pytorch-0.3.2 timm-0.6.12\n",
      "\u001b[33mWARNING: You are using pip version 21.1.1; however, version 23.1.1 is available.\n",
      "You should consider upgrading via the '/share/pkg.7/python3/3.7.10/install/bin/python3.7 -m pip install --upgrade pip' command.\u001b[0m\n"
     ]
    }
   ],
   "source": [
    "!pip install segmentation-models-pytorch"
   ]
  },
  {
   "cell_type": "code",
   "execution_count": 16,
   "id": "ec8c9c96",
   "metadata": {},
   "outputs": [],
   "source": [
    "from torchvision.datasets import Cityscapes"
   ]
  },
  {
   "cell_type": "code",
   "execution_count": 34,
   "id": "838022f9",
   "metadata": {},
   "outputs": [
    {
     "name": "stdout",
     "output_type": "stream",
     "text": [
      "PCS-FUDA-master      __MACOSX\t\t       testing.py\r\n",
      "PCS-FUDA-master.zip  data\t\t       testing_cosine_classifier.py\r\n",
      "PCS-FUDA-v1\t     exps\t\t       utilityNotebook.ipynb\r\n",
      "PCS-FUDA-v1.zip      leftImg8bit_trainvaltest\r\n",
      "README\t\t     license.txt\r\n"
     ]
    }
   ],
   "source": [
    "!ls"
   ]
  },
  {
   "cell_type": "code",
   "execution_count": 33,
   "id": "e75177d5",
   "metadata": {},
   "outputs": [
    {
     "name": "stdout",
     "output_type": "stream",
     "text": [
      "/projectnb/cs585bp/gmharsh\n"
     ]
    }
   ],
   "source": [
    "%cd /projectnb/cs585bp/gmharsh"
   ]
  },
  {
   "cell_type": "code",
   "execution_count": 10,
   "id": "d5ca730a",
   "metadata": {},
   "outputs": [],
   "source": [
    "train_dataset = Cityscapes(root=\"./PCS-FUDA-v1/PCS-FUDA-master/data/splits/cynthia/cityscapes\", split=\"train\", mode=\"coarse\", transform=transforms.ToTensor(), target_type=\"color\")\n",
    "# val_dataset = Cityscapes(root=\"PCS-FUDA-v1/PCS-FUDA-master/data/splits/cynthia/cityscapes\", split=\"val\", mode=\"fine\", transform=transforms.ToTensor(), target_type=\"color\")\n",
    "# test_dataset = Cityscapes(root=\"PCS-FUDA-v1/PCS-FUDA-master/data/splits/cynthia/cityscapes\", split=\"test\", mode=\"fine\", transform=transforms.ToTensor(), target_type=\"color\")"
   ]
  },
  {
   "cell_type": "code",
   "execution_count": 9,
   "id": "f89242e5",
   "metadata": {},
   "outputs": [
    {
     "data": {
      "text/plain": [
       "True"
      ]
     },
     "execution_count": 9,
     "metadata": {},
     "output_type": "execute_result"
    }
   ],
   "source": [
    "os.path.exists(\"PCS-FUDA-v1/PCS-FUDA-master/data/splits/cynthia/cityscapes\")"
   ]
  },
  {
   "cell_type": "code",
   "execution_count": 16,
   "id": "711de2e2",
   "metadata": {},
   "outputs": [],
   "source": [
    "test_dataset = Cityscapes(root=\"./PCS-FUDA-v1/PCS-FUDA-master/data/splits/cynthia/cityscapes\", \n",
    "                          split=\"val\", mode=\"coarse\", transform=transforms.ToTensor(), target_type=\"color\")"
   ]
  },
  {
   "cell_type": "code",
   "execution_count": 26,
   "id": "a0e0854c",
   "metadata": {},
   "outputs": [],
   "source": [
    "import os\n",
    "os.chdir(\"PCS-FUDA-v1/PCS-FUDA-master\")\n",
    "from pcs.utils.datautils_seg import *"
   ]
  },
  {
   "cell_type": "code",
   "execution_count": 29,
   "id": "6c2d1ecd",
   "metadata": {},
   "outputs": [
    {
     "ename": "AttributeError",
     "evalue": "",
     "output_type": "error",
     "traceback": [
      "\u001b[0;31m---------------------------------------------------------------------------\u001b[0m",
      "\u001b[0;31mAttributeError\u001b[0m                            Traceback (most recent call last)",
      "\u001b[0;32m<ipython-input-29-a9be907cd1c6>\u001b[0m in \u001b[0;36m<module>\u001b[0;34m\u001b[0m\n\u001b[1;32m     12\u001b[0m \u001b[0;31m#) = label_indices, labeled_dataset.targets\u001b[0m\u001b[0;34m\u001b[0m\u001b[0;34m\u001b[0m\u001b[0;34m\u001b[0m\u001b[0m\n\u001b[1;32m     13\u001b[0m \u001b[0mfewshot_index_source\u001b[0m \u001b[0;34m=\u001b[0m \u001b[0mlabel_indices\u001b[0m\u001b[0;34m\u001b[0m\u001b[0;34m\u001b[0m\u001b[0m\n\u001b[0;32m---> 14\u001b[0;31m \u001b[0mfewshot_label_source\u001b[0m \u001b[0;34m=\u001b[0m \u001b[0mlabeled_dataset\u001b[0m\u001b[0;34m.\u001b[0m\u001b[0mtargets\u001b[0m\u001b[0;34m\u001b[0m\u001b[0;34m\u001b[0m\u001b[0m\n\u001b[0m",
      "\u001b[0;32m/share/pkg.7/pytorch/1.10.2/install/lib/SCC/../python3.7/site-packages/torch/utils/data/dataset.py\u001b[0m in \u001b[0;36m__getattr__\u001b[0;34m(self, attribute_name)\u001b[0m\n\u001b[1;32m     81\u001b[0m             \u001b[0;32mreturn\u001b[0m \u001b[0mfunction\u001b[0m\u001b[0;34m\u001b[0m\u001b[0;34m\u001b[0m\u001b[0m\n\u001b[1;32m     82\u001b[0m         \u001b[0;32melse\u001b[0m\u001b[0;34m:\u001b[0m\u001b[0;34m\u001b[0m\u001b[0;34m\u001b[0m\u001b[0m\n\u001b[0;32m---> 83\u001b[0;31m             \u001b[0;32mraise\u001b[0m \u001b[0mAttributeError\u001b[0m\u001b[0;34m\u001b[0m\u001b[0;34m\u001b[0m\u001b[0m\n\u001b[0m\u001b[1;32m     84\u001b[0m \u001b[0;34m\u001b[0m\u001b[0m\n\u001b[1;32m     85\u001b[0m     \u001b[0;34m@\u001b[0m\u001b[0mclassmethod\u001b[0m\u001b[0;34m\u001b[0m\u001b[0;34m\u001b[0m\u001b[0m\n",
      "\u001b[0;31mAttributeError\u001b[0m: "
     ]
    }
   ],
   "source": [
    "label_indices = create_label_index(len(train_dataset), 0.05)\n",
    "            \n",
    "fewshot_labels = get_fewshot_data_labels(train_dataset, 0.05)\n",
    "            \n",
    "labeled_dataset = get_fewshot_data_labels(train_dataset, label_indices)\n",
    "unlabeled_dataset = get_unlabeled_data(train_dataset, label_indices)\n",
    "labeled_dataloader = get_fewshot_dataloader(labeled_dataset, label_indices, 32)\n",
    "unlabeled_dataloader = get_unlabeled_dataloader(unlabeled_dataset, label_indices, 32)\n",
    "#(\n",
    "#        self.fewshot_index_source,\n",
    "#        self.fewshot_label_source,\n",
    "#) = label_indices, labeled_dataset.targets\n",
    "fewshot_index_source = label_indices\n",
    "fewshot_label_source = labeled_dataset.targets"
   ]
  },
  {
   "cell_type": "code",
   "execution_count": 32,
   "id": "c0b9a7b2",
   "metadata": {},
   "outputs": [
    {
     "data": {
      "text/plain": [
       "['CityscapesClass',\n",
       " '__add__',\n",
       " '__annotations__',\n",
       " '__class__',\n",
       " '__class_getitem__',\n",
       " '__delattr__',\n",
       " '__dict__',\n",
       " '__dir__',\n",
       " '__doc__',\n",
       " '__eq__',\n",
       " '__format__',\n",
       " '__ge__',\n",
       " '__getattr__',\n",
       " '__getattribute__',\n",
       " '__getitem__',\n",
       " '__gt__',\n",
       " '__hash__',\n",
       " '__init__',\n",
       " '__init_subclass__',\n",
       " '__le__',\n",
       " '__len__',\n",
       " '__lt__',\n",
       " '__module__',\n",
       " '__ne__',\n",
       " '__new__',\n",
       " '__orig_bases__',\n",
       " '__parameters__',\n",
       " '__reduce__',\n",
       " '__reduce_ex__',\n",
       " '__repr__',\n",
       " '__setattr__',\n",
       " '__sizeof__',\n",
       " '__slots__',\n",
       " '__str__',\n",
       " '__subclasshook__',\n",
       " '__weakref__',\n",
       " '_format_transform_repr',\n",
       " '_get_target_suffix',\n",
       " '_load_json',\n",
       " '_repr_indent',\n",
       " 'classes',\n",
       " 'extra_repr',\n",
       " 'functions',\n",
       " 'images',\n",
       " 'images_dir',\n",
       " 'mode',\n",
       " 'register_datapipe_as_function',\n",
       " 'register_function',\n",
       " 'root',\n",
       " 'split',\n",
       " 'target_transform',\n",
       " 'target_type',\n",
       " 'targets',\n",
       " 'targets_dir',\n",
       " 'transform',\n",
       " 'transforms']"
      ]
     },
     "execution_count": 32,
     "metadata": {},
     "output_type": "execute_result"
    }
   ],
   "source": [
    "dir(labeled_dataset.dataset)"
   ]
  },
  {
   "cell_type": "code",
   "execution_count": null,
   "id": "82c5dd6f",
   "metadata": {},
   "outputs": [],
   "source": []
  }
 ],
 "metadata": {
  "kernelspec": {
   "display_name": "Python 3",
   "language": "python",
   "name": "python3"
  },
  "language_info": {
   "codemirror_mode": {
    "name": "ipython",
    "version": 3
   },
   "file_extension": ".py",
   "mimetype": "text/x-python",
   "name": "python",
   "nbconvert_exporter": "python",
   "pygments_lexer": "ipython3",
   "version": "3.7.10"
  }
 },
 "nbformat": 4,
 "nbformat_minor": 5
}
